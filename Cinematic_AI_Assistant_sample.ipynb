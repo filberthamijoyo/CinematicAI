{
 "cells": [
  {
   "cell_type": "markdown",
   "metadata": {},
   "source": [
    "# CinematicAI: Intelligent Movie Recommendation Assistant\n",
    "\n",
    "This is a sample notebook to demonstrate the structure of the full implementation. The complete notebook is too large to be included in this repository.\n",
    "\n",
    "## Environment Setup"
   ]
  },
  {
   "cell_type": "code",
   "execution_count": null,
   "metadata": {},
   "source": [
    "!pip install sentence-transformers pinecone transformers pandas torch rank_bm25 nltk --quiet\n",
    "!pip install nest_asyncio --quiet\n",
    "!pip install -q -U bitsandbytes  # Required for 4-bit quantization\n",
    "!pip install -U transformers"
   ]
  },
  {
   "cell_type": "markdown",
   "metadata": {},
   "source": [
    "## Configuration & Imports"
   ]
  },
  {
   "cell_type": "code",
   "execution_count": null,
   "metadata": {},
   "source": [
    "import pandas as pd\n",
    "import numpy as np\n",
    "import torch\n",
    "import re\n",
    "import ast\n",
    "import nltk\n",
    "import asyncio\n",
    "import nest_asyncio\n",
    "import gc\n",
    "import time\n",
    "import joblib\n",
    "import os\n",
    "from datetime import datetime\n",
    "from pinecone import Pinecone, ServerlessSpec\n",
    "from nltk.corpus import stopwords\n",
    "from nltk.tokenize import word_tokenize\n",
    "from transformers import AutoTokenizer, AutoModelForCausalLM, BitsAndBytesConfig\n",
    "from sentence_transformers import SentenceTransformer, CrossEncoder\n",
    "from rank_bm25 import BM25Okapi"
   ]
  },
  {
   "cell_type": "code",
   "execution_count": null,
   "metadata": {},
   "source": [
    "# Free up memory before starting\n",
    "torch.cuda.empty_cache()\n",
    "gc.collect()\n",
    "\n",
    "CONFIG = {\n",
    "    # Core components\n",
    "    \"index_name\": \"movie-rag-index\",\n",
    "    \"embedding_model\": \"sentence-transformers/all-mpnet-base-v2\",\n",
    "    \"reranker\": \"cross-encoder/ms-marco-MiniLM-L-6-v2\",\n",
    "    \"llm_model\": \"microsoft/Phi-3-mini-4k-instruct\",\n",
    "\n",
    "    # Processing parameters\n",
    "    \"chunk_size\": 600,\n",
    "    \"chunk_overlap\": 100,\n",
    "    \"top_k_retrieve\": 50,\n",
    "    \"top_k_final\": 12,\n",
    "\n",
    "    # Response generation\n",
    "    \"max_response_tokens\": 800,\n",
    "    \"min_imdb_rating\": 6.5,\n",
    "    \"default_year_range\": 10,\n",
    "}\n",
    "\n",
    "# Hardware configuration\n",
    "device = \"cuda\" if torch.cuda.is_available() else \"cpu\"\n",
    "quantization_config = BitsAndBytesConfig(\n",
    "    load_in_4bit=True,\n",
    "    bnb_4bit_use_double_quant=True,\n",
    "    bnb_4bit_quant_type=\"nf4\",\n",
    "    bnb_4bit_compute_dtype=torch.float16\n",
    ")"
   ]
  },
  {
   "cell_type": "markdown",
   "metadata": {},
   "source": [
    "## Data Loading and Processing"
   ]
  },
  {
   "cell_type": "code",
   "execution_count": null,
   "metadata": {},
   "source": [
    "# Load the dataset\n",
    "df = pd.read_csv('reviews.csv')\n",
    "print(f\"Dataset loaded with {len(df)} reviews\")\n",
    "df.head()"
   ]
  },
  {
   "cell_type": "markdown",
   "metadata": {},
   "source": [
    "## Sample Content\n",
    "\n",
    "The full notebook contains the following sections:\n",
    "\n",
    "1. Data Preprocessing\n",
    "2. BM25 Index Creation\n",
    "3. Document Chunking\n",
    "4. Vector Embedding\n",
    "5. Pinecone Index Creation and Upload\n",
    "6. Hybrid Retrieval Implementation\n",
    "7. Re-ranking Implementation\n",
    "8. Context Building\n",
    "9. Response Generation\n",
    "10. Query Interface"
   ]
  },
  {
   "cell_type": "markdown",
   "metadata": {},
   "source": [
    "## Example RAG Assistant Function\n",
    "\n",
    "The final RAG assistant would include code similar to the following:"
   ]
  },
  {
   "cell_type": "code",
   "execution_count": null,
   "metadata": {},
   "source": [
    "def get_movie_recommendations(user_query, chat_history=None):\n",
    "    \"\"\"\n",
    "    Main function to generate movie recommendations based on user query\n",
    "    \n",
    "    Args:\n",
    "        user_query (str): User's natural language request for movie recommendations\n",
    "        chat_history (list, optional): Previous conversation turns for context\n",
    "        \n",
    "    Returns:\n",
    "        str: Natural language response with movie recommendations\n",
    "    \"\"\"\n",
    "    # 1. Process query\n",
    "    query_intent, constraints = analyze_query(user_query, chat_history)\n",
    "    \n",
    "    # 2. Retrieve relevant information\n",
    "    bm25_results = bm25_search(user_query, top_k=CONFIG[\"top_k_retrieve\"])\n",
    "    vector_results = vector_search(user_query, top_k=CONFIG[\"top_k_retrieve\"])\n",
    "    combined_results = combine_search_results(bm25_results, vector_results)\n",
    "    \n",
    "    # 3. Re-rank results\n",
    "    reranked_results = rerank_results(user_query, combined_results)\n",
    "    top_results = reranked_results[:CONFIG[\"top_k_final\"]]\n",
    "    \n",
    "    # 4. Build context for LLM\n",
    "    context = build_context(user_query, top_results, constraints)\n",
    "    \n",
    "    # 5. Generate response\n",
    "    prompt = create_prompt(user_query, context, chat_history)\n",
    "    response = generate_response(prompt)\n",
    "    \n",
    "    return response"
   ]
  }
 ],
 "metadata": {
  "kernelspec": {
   "display_name": "Python 3",
   "language": "python",
   "name": "python3"
  },
  "language_info": {
   "codemirror_mode": {
    "name": "ipython",
    "version": 3
   },
   "file_extension": ".py",
   "mimetype": "text/x-python",
   "name": "python",
   "nbconvert_exporter": "python",
   "pygments_lexer": "ipython3",
   "version": "3.8.10"
  }
 },
 "nbformat": 4,
 "nbformat_minor": 4
}